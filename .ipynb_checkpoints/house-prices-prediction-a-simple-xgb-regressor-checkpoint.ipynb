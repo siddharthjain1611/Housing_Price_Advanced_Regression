{
 "cells": [
  {
   "cell_type": "code",
   "execution_count": 1,
   "metadata": {
    "_cell_guid": "b1076dfc-b9ad-4769-8c92-a6c4dae69d19",
    "_uuid": "8f2839f25d086af736a60e9eeb907d3b93b6e0e5"
   },
   "outputs": [],
   "source": [
    "\n",
    "import numpy as np \n",
    "import pandas as pd \n",
    "from sklearn.model_selection import train_test_split\n",
    "from sklearn.preprocessing import StandardScaler, LabelEncoder"
   ]
  },
  {
   "cell_type": "code",
   "execution_count": 2,
   "metadata": {
    "_cell_guid": "79c7e3d0-c299-4dcb-8224-4455121ee9b0",
    "_uuid": "d629ff2d2480ee46fbb7e2d37f6b5fab8052498a"
   },
   "outputs": [],
   "source": [
    "train = pd.read_csv('train.csv')\n",
    "test  = pd.read_csv('test.csv')\n",
    "sample= pd.read_csv('sample_submission.csv')"
   ]
  },
  {
   "cell_type": "code",
   "execution_count": 3,
   "metadata": {
    "_uuid": "d7ce435fe4d90168b4aec47047bf9eaeb5f87075"
   },
   "outputs": [],
   "source": [
    "def display_all(df):\n",
    "    with pd.option_context(\"display.max_rows\", 1000, \"display.max_columns\", 1000): \n",
    "        display(df)"
   ]
  },
  {
   "cell_type": "code",
   "execution_count": 4,
   "metadata": {
    "_uuid": "ac32c6ac2affaadda1824eaec3b1f84f5946a3d4"
   },
   "outputs": [],
   "source": [
    "y     = train[['Id','SalePrice']]\n",
    "train = train.drop('SalePrice',axis=1)"
   ]
  },
  {
   "cell_type": "code",
   "execution_count": 5,
   "metadata": {
    "_uuid": "6c4770d6336e35f4b6de427eb9de62dee5565a00"
   },
   "outputs": [],
   "source": [
    "all_dfs = [train,test]\n",
    "all_df = pd.concat(all_dfs).reset_index(drop=True);"
   ]
  },
  {
   "cell_type": "code",
   "execution_count": 6,
   "metadata": {
    "_uuid": "30d3eef64cc1c5ce58f81c9e861934f65723a03f"
   },
   "outputs": [
    {
     "data": {
      "text/plain": [
       "Id               0.000000\n",
       "MSSubClass       0.000000\n",
       "MSZoning         0.001370\n",
       "LotFrontage      0.166495\n",
       "LotArea          0.000000\n",
       "Street           0.000000\n",
       "Alley            0.932169\n",
       "LotShape         0.000000\n",
       "LandContour      0.000000\n",
       "Utilities        0.000685\n",
       "LotConfig        0.000000\n",
       "LandSlope        0.000000\n",
       "Neighborhood     0.000000\n",
       "Condition1       0.000000\n",
       "Condition2       0.000000\n",
       "BldgType         0.000000\n",
       "HouseStyle       0.000000\n",
       "OverallQual      0.000000\n",
       "OverallCond      0.000000\n",
       "YearBuilt        0.000000\n",
       "YearRemodAdd     0.000000\n",
       "RoofStyle        0.000000\n",
       "RoofMatl         0.000000\n",
       "Exterior1st      0.000343\n",
       "Exterior2nd      0.000343\n",
       "MasVnrType       0.008222\n",
       "MasVnrArea       0.007879\n",
       "ExterQual        0.000000\n",
       "ExterCond        0.000000\n",
       "Foundation       0.000000\n",
       "BsmtQual         0.027749\n",
       "BsmtCond         0.028092\n",
       "BsmtExposure     0.028092\n",
       "BsmtFinType1     0.027064\n",
       "BsmtFinSF1       0.000343\n",
       "BsmtFinType2     0.027407\n",
       "BsmtFinSF2       0.000343\n",
       "BsmtUnfSF        0.000343\n",
       "TotalBsmtSF      0.000343\n",
       "Heating          0.000000\n",
       "HeatingQC        0.000000\n",
       "CentralAir       0.000000\n",
       "Electrical       0.000343\n",
       "1stFlrSF         0.000000\n",
       "2ndFlrSF         0.000000\n",
       "LowQualFinSF     0.000000\n",
       "GrLivArea        0.000000\n",
       "BsmtFullBath     0.000685\n",
       "BsmtHalfBath     0.000685\n",
       "FullBath         0.000000\n",
       "HalfBath         0.000000\n",
       "BedroomAbvGr     0.000000\n",
       "KitchenAbvGr     0.000000\n",
       "KitchenQual      0.000343\n",
       "TotRmsAbvGrd     0.000000\n",
       "Functional       0.000685\n",
       "Fireplaces       0.000000\n",
       "FireplaceQu      0.486468\n",
       "GarageType       0.053786\n",
       "GarageYrBlt      0.054471\n",
       "GarageFinish     0.054471\n",
       "GarageCars       0.000343\n",
       "GarageArea       0.000343\n",
       "GarageQual       0.054471\n",
       "GarageCond       0.054471\n",
       "PavedDrive       0.000000\n",
       "WoodDeckSF       0.000000\n",
       "OpenPorchSF      0.000000\n",
       "EnclosedPorch    0.000000\n",
       "3SsnPorch        0.000000\n",
       "ScreenPorch      0.000000\n",
       "PoolArea         0.000000\n",
       "PoolQC           0.996574\n",
       "Fence            0.804385\n",
       "MiscFeature      0.964029\n",
       "MiscVal          0.000000\n",
       "MoSold           0.000000\n",
       "YrSold           0.000000\n",
       "SaleType         0.000343\n",
       "SaleCondition    0.000000\n",
       "dtype: float64"
      ]
     },
     "metadata": {},
     "output_type": "display_data"
    }
   ],
   "source": [
    "display_all(all_df.isnull().sum()/all_df.shape[0])"
   ]
  },
  {
   "cell_type": "code",
   "execution_count": 7,
   "metadata": {
    "_uuid": "0b7984209016df96b980bce73e73aabb7942c6dd"
   },
   "outputs": [],
   "source": [
    "all_df.drop(['Alley','PoolQC','MiscFeature','Fence','FireplaceQu','Utilities'],axis=1,inplace=True)"
   ]
  },
  {
   "cell_type": "code",
   "execution_count": 8,
   "metadata": {
    "_uuid": "5fef24bd95f2c69709ab64b83b1b8f893875d3bb"
   },
   "outputs": [],
   "source": [
    "all_df['LotFrontage'].fillna(value=all_df['LotFrontage'].median(),inplace=True)\n",
    "all_df['MasVnrType'].fillna(value='None',inplace=True)\n",
    "all_df['MasVnrArea'].fillna(0,inplace=True)\n",
    "all_df['BsmtCond'].fillna(value='TA',inplace=True)\n",
    "all_df['BsmtExposure'].fillna(value='No',inplace=True)\n",
    "all_df['Electrical'].fillna(value='SBrkr',inplace=True)\n",
    "all_df['BsmtFinType2'].fillna(value='Unf',inplace=True)\n",
    "all_df['GarageType'].fillna(value='Attchd',inplace=True)\n",
    "all_df['GarageYrBlt'].fillna(value=all_df['GarageYrBlt'].median(),inplace=True)\n",
    "all_df['GarageFinish'].fillna(value='Unf',inplace=True)\n",
    "all_df['GarageQual'].fillna(value='TA',inplace=True)\n",
    "all_df['GarageCond'].fillna(value='TA',inplace=True)\n",
    "all_df['BsmtFinType1'].fillna(value='NO',inplace=True)\n",
    "all_df['BsmtQual'].fillna(value='No',inplace=True)\n",
    "all_df['BsmtFullBath'].fillna(value=all_df['BsmtFullBath'].median(),inplace=True)\n",
    "all_df['BsmtFinSF1'].fillna(value=all_df['BsmtFinSF1'].median(),inplace=True)\n",
    "all_df['BsmtFinSF2'].fillna(value=0,inplace=True)\n",
    "all_df['BsmtUnfSF'].fillna(value=0,inplace=True)\n",
    "all_df['TotalBsmtSF'].fillna(value=all_df['TotalBsmtSF'].median(),inplace=True)\n",
    "all_df['BsmtHalfBath'].fillna(value=0,inplace=True)\n",
    "all_df['GarageCars'].fillna(value=all_df['GarageCars'].median(),inplace=True)\n",
    "all_df['GarageArea'].fillna(value=all_df['GarageArea'].median(),inplace=True)"
   ]
  },
  {
   "cell_type": "code",
   "execution_count": 9,
   "metadata": {
    "_uuid": "be37de0a0e60166a891ce181189bbcd25be46b1a"
   },
   "outputs": [],
   "source": [
    "labelencoder=LabelEncoder()\n",
    "\n",
    "all_df['MSZoning']      = labelencoder.fit_transform(all_df['MSZoning'].astype(str))\n",
    "all_df['Exterior1st']   = labelencoder.fit_transform(all_df['Exterior1st'].astype(str))\n",
    "all_df['Exterior2nd']   = labelencoder.fit_transform(all_df['Exterior2nd'].astype(str))\n",
    "all_df['KitchenQual']   = labelencoder.fit_transform(all_df['KitchenQual'].astype(str))\n",
    "all_df['Functional']    = labelencoder.fit_transform(all_df['Functional'].astype(str))\n",
    "all_df['SaleType']      = labelencoder.fit_transform(all_df['SaleType'].astype(str))\n",
    "all_df['Street']        = labelencoder.fit_transform(all_df['Street'])   \n",
    "all_df['LotShape']      = labelencoder.fit_transform(all_df['LotShape'])   \n",
    "all_df['LandContour']   = labelencoder.fit_transform(all_df['LandContour'])   \n",
    "all_df['LotConfig']     = labelencoder.fit_transform(all_df['LotConfig'])   \n",
    "all_df['LandSlope']     = labelencoder.fit_transform(all_df['LandSlope'])   \n",
    "all_df['Neighborhood']  = labelencoder.fit_transform(all_df['Neighborhood'])   \n",
    "all_df['Condition1']    = labelencoder.fit_transform(all_df['Condition1'])   \n",
    "all_df['Condition2']    = labelencoder.fit_transform(all_df['Condition2'])   \n",
    "all_df['BldgType']      = labelencoder.fit_transform(all_df['BldgType'])   \n",
    "all_df['HouseStyle']    = labelencoder.fit_transform(all_df['HouseStyle'])   \n",
    "all_df['RoofStyle']     = labelencoder.fit_transform(all_df['RoofStyle'])   \n",
    "all_df['RoofMatl']      = labelencoder.fit_transform(all_df['RoofMatl'])    \n",
    "all_df['MasVnrType']    = labelencoder.fit_transform(all_df['MasVnrType'])   \n",
    "all_df['ExterQual']     = labelencoder.fit_transform(all_df['ExterQual'])  \n",
    "all_df['ExterCond']     = labelencoder.fit_transform(all_df['ExterCond'])   \n",
    "all_df['Foundation']    = labelencoder.fit_transform(all_df['Foundation'])   \n",
    "all_df['BsmtQual']      = labelencoder.fit_transform(all_df['BsmtQual'])   \n",
    "all_df['BsmtCond']      = labelencoder.fit_transform(all_df['BsmtCond'])   \n",
    "all_df['BsmtExposure']  = labelencoder.fit_transform(all_df['BsmtExposure'])   \n",
    "all_df['BsmtFinType1']  = labelencoder.fit_transform(all_df['BsmtFinType1'])   \n",
    "all_df['BsmtFinType2']  = labelencoder.fit_transform(all_df['BsmtFinType2'])   \n",
    "all_df['Heating']       = labelencoder.fit_transform(all_df['Heating'])   \n",
    "all_df['HeatingQC']     = labelencoder.fit_transform(all_df['HeatingQC'])   \n",
    "all_df['CentralAir']    = labelencoder.fit_transform(all_df['CentralAir'])   \n",
    "all_df['Electrical']    = labelencoder.fit_transform(all_df['Electrical'])    \n",
    "all_df['GarageType']    = labelencoder.fit_transform(all_df['GarageType'])  \n",
    "all_df['GarageFinish']  = labelencoder.fit_transform(all_df['GarageFinish'])   \n",
    "all_df['GarageQual']    = labelencoder.fit_transform(all_df['GarageQual'])  \n",
    "all_df['GarageCond']    = labelencoder.fit_transform(all_df['GarageCond'])   \n",
    "all_df['PavedDrive']    = labelencoder.fit_transform(all_df['PavedDrive'])  \n",
    "all_df['SaleCondition'] = labelencoder.fit_transform(all_df['SaleCondition'])  "
   ]
  },
  {
   "cell_type": "code",
   "execution_count": 10,
   "metadata": {
    "_uuid": "5c1be1ee5621bb3e398526e892fcf6bcb96866ce"
   },
   "outputs": [],
   "source": [
    "Scaler = StandardScaler()\n",
    "all_scaled = pd.DataFrame(Scaler.fit_transform(all_df))\n",
    "\n",
    "train_scaled = pd.DataFrame(all_scaled[:1460])\n",
    "test_scaled = pd.DataFrame(all_scaled[1460:2920])"
   ]
  },
  {
   "cell_type": "code",
   "execution_count": 11,
   "metadata": {
    "_uuid": "42cf99169f7916ba1db20a1500239e2687145734"
   },
   "outputs": [],
   "source": [
    "X = train_scaled\n",
    "X_train, X_test, y_train, y_test = train_test_split(X, y['SalePrice'], test_size=0.1, random_state=42)"
   ]
  },
  {
   "cell_type": "code",
   "execution_count": 12,
   "metadata": {
    "_uuid": "1652863384f5f8b245b8e01585bc0a643ccdbfe7"
   },
   "outputs": [
    {
     "name": "stderr",
     "output_type": "stream",
     "text": [
      "/Library/Frameworks/Python.framework/Versions/3.7/lib/python3.7/site-packages/xgboost/core.py:587: FutureWarning: Series.base is deprecated and will be removed in a future version\n",
      "  if getattr(data, 'base', None) is not None and \\\n"
     ]
    },
    {
     "name": "stdout",
     "output_type": "stream",
     "text": [
      "[23:59:14] WARNING: src/objective/regression_obj.cu:152: reg:linear is now deprecated in favor of reg:squarederror.\n"
     ]
    },
    {
     "data": {
      "text/plain": [
       "XGBRegressor(base_score=0.5, booster='gbtree', colsample_bylevel=1,\n",
       "             colsample_bynode=1, colsample_bytree=1, gamma=0,\n",
       "             importance_type='gain', learning_rate=0.1, max_delta_step=0,\n",
       "             max_depth=3, min_child_weight=3, missing=None, n_estimators=1000,\n",
       "             n_jobs=-1, nthread=None, objective='reg:linear', random_state=0,\n",
       "             reg_alpha=0.001, reg_lambda=1e-06, scale_pos_weight=1, seed=None,\n",
       "             silent=None, subsample=1, verbosity=1)"
      ]
     },
     "execution_count": 12,
     "metadata": {},
     "output_type": "execute_result"
    }
   ],
   "source": [
    "from xgboost import XGBRegressor\n",
    "XGB = XGBRegressor(max_depth=3,learning_rate=0.1,n_estimators=1000,reg_alpha=0.001,reg_lambda=0.000001,n_jobs=-1,min_child_weight=3)\n",
    "XGB.fit(X_train,y_train)"
   ]
  },
  {
   "cell_type": "code",
   "execution_count": 13,
   "metadata": {
    "_uuid": "a24ba8aaef9722fa608915507d39d6bada3a6a21"
   },
   "outputs": [
    {
     "name": "stdout",
     "output_type": "stream",
     "text": [
      "Training score: 0.9984383142362594 Test Score: 0.9360790407423961\n"
     ]
    }
   ],
   "source": [
    "print (\"Training score:\",XGB.score(X_train,y_train),\"Test Score:\",XGB.score(X_test,y_test))"
   ]
  },
  {
   "cell_type": "code",
   "execution_count": 14,
   "metadata": {
    "_uuid": "c071cd267ce43a9a0133fa3f1b8841d72c502c0a"
   },
   "outputs": [],
   "source": [
    "y_pred = pd.DataFrame(XGB.predict(test_scaled))\n",
    "y_pred['SalePrice']=y_pred[0]\n",
    "y_pred['Id'] = test['Id']\n",
    "y_pred.drop(0,axis=1,inplace=True)"
   ]
  },
  {
   "cell_type": "code",
   "execution_count": 15,
   "metadata": {
    "_uuid": "bec42daa48d8c3f7922c6cd4f2b4a25090f7713d"
   },
   "outputs": [],
   "source": [
    "y_pred.to_csv('house_price_xgb.csv',index=False)"
   ]
  },
  {
   "cell_type": "code",
   "execution_count": 15,
   "metadata": {},
   "outputs": [],
   "source": [
    "df=pd.read_csv(\"sub.csv\")"
   ]
  },
  {
   "cell_type": "code",
   "execution_count": 17,
   "metadata": {},
   "outputs": [],
   "source": [
    "x=df['SalePrice']"
   ]
  },
  {
   "cell_type": "code",
   "execution_count": null,
   "metadata": {},
   "outputs": [],
   "source": [
    "mean_absolute_error(preds,train_y)"
   ]
  },
  {
   "cell_type": "markdown",
   "metadata": {
    "_uuid": "eeacf6341e6a61ccbeabcdda8aacd47d215d9733"
   },
   "source": [
    "thanks a lot for your time!"
   ]
  }
 ],
 "metadata": {
  "kernelspec": {
   "display_name": "Python 3",
   "language": "python",
   "name": "python3"
  },
  "language_info": {
   "codemirror_mode": {
    "name": "ipython",
    "version": 3
   },
   "file_extension": ".py",
   "mimetype": "text/x-python",
   "name": "python",
   "nbconvert_exporter": "python",
   "pygments_lexer": "ipython3",
   "version": "3.7.1"
  }
 },
 "nbformat": 4,
 "nbformat_minor": 1
}
